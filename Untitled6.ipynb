{
  "nbformat": 4,
  "nbformat_minor": 0,
  "metadata": {
    "colab": {
      "name": "Untitled6.ipynb",
      "version": "0.3.2",
      "provenance": [],
      "include_colab_link": true
    },
    "kernelspec": {
      "name": "python3",
      "display_name": "Python 3"
    }
  },
  "cells": [
    {
      "cell_type": "markdown",
      "metadata": {
        "id": "view-in-github",
        "colab_type": "text"
      },
      "source": [
        "<a href=\"https://colab.research.google.com/github/EgithubT/deep-learning-from-scratch/blob/master/Untitled6.ipynb\" target=\"_parent\"><img src=\"https://colab.research.google.com/assets/colab-badge.svg\" alt=\"Open In Colab\"/></a>"
      ]
    },
    {
      "metadata": {
        "id": "ue7T6BofyiV0",
        "colab_type": "code",
        "colab": {
          "base_uri": "https://localhost:8080/",
          "height": 34
        },
        "outputId": "16191b54-79ac-4eec-e623-cf52b1590dd4"
      },
      "cell_type": "code",
      "source": [
        "\n",
        "def f(x):\n",
        "    return x**2\n",
        "\n",
        "print(f(2))\n",
        "    \n",
        "    "
      ],
      "execution_count": 5,
      "outputs": [
        {
          "output_type": "stream",
          "text": [
            "4\n"
          ],
          "name": "stdout"
        }
      ]
    },
    {
      "metadata": {
        "id": "w-DHlpkF1LOj",
        "colab_type": "code",
        "colab": {
          "base_uri": "https://localhost:8080/",
          "height": 34
        },
        "outputId": "19d09c5c-1f88-489f-9184-8dd8b58a4c90"
      },
      "cell_type": "code",
      "source": [
        "def print_string(string):\n",
        "    print(string)\n",
        "\n",
        "print_string(\"Testing: 1, 2, 3.\")"
      ],
      "execution_count": 7,
      "outputs": [
        {
          "output_type": "stream",
          "text": [
            "Testing: 1, 2, 3.\n"
          ],
          "name": "stdout"
        }
      ]
    }
  ]
}