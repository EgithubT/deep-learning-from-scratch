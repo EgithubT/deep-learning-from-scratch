{
  "nbformat": 4,
  "nbformat_minor": 0,
  "metadata": {
    "colab": {
      "name": "Untitled1.ipynb",
      "version": "0.3.2",
      "provenance": [],
      "collapsed_sections": [],
      "include_colab_link": true
    },
    "kernelspec": {
      "name": "python3",
      "display_name": "Python 3"
    }
  },
  "cells": [
    {
      "cell_type": "markdown",
      "metadata": {
        "id": "view-in-github",
        "colab_type": "text"
      },
      "source": [
        "<a href=\"https://colab.research.google.com/github/EgithubT/deep-learning-from-scratch/blob/master/VGG16.ipynb\" target=\"_parent\"><img src=\"https://colab.research.google.com/assets/colab-badge.svg\" alt=\"Open In Colab\"/></a>"
      ]
    },
    {
      "metadata": {
        "id": "e0zIHA2Iq12H",
        "colab_type": "code",
        "colab": {
          "base_uri": "https://localhost:8080/",
          "height": 187
        },
        "outputId": "079ee197-38c5-435e-83af-567d3211444a"
      },
      "cell_type": "code",
      "source": [
        "# -*- coding: utf-8 -*-\n",
        "\"\"\"\n",
        "Created on Mon Jan  7 08:17:36 2019\n",
        "\n",
        "@author: k050229000\n",
        "\"\"\"\n",
        "\n",
        "from keras.applications.vgg16 import VGG16, preprocess_input, decode_predictions\n",
        "from keras.preprocessing import image\n",
        "import requests\n",
        "import numpy as np\n",
        "model = VGG16(include_top=True, weights='imagenet', input_tensor=None, input_shape=None)\n",
        " \n",
        " \n",
        "#画像をダンロードするための関数\n",
        "def download_img(url, file_name):\n",
        "    r = requests.get(url, stream=True)\n",
        "    if r.status_code == 200:\n",
        "        with open(file_name, 'wb') as f:\n",
        "            f.write(r.content)\n",
        " \n",
        " \n",
        "if __name__ == '__main__':\n",
        "    #画像のダウンロード\n",
        "    url = 'https://cdn.pixabay.com/photo/2016/03/05/19/02/hamburger-1238246_1280.jpg'\n",
        "    file_name = 'hamburger.jpg'\n",
        "    download_img(url, file_name)\n",
        "    img = image.load_img(file_name, target_size=(224, 224))\n",
        "    \n",
        "    # 読み込んだPIL形式の画像をarrayに変換\n",
        "    ary = image.img_to_array(img)\n",
        " \n",
        "    #サンプル数の次元を1つ増やし四次元テンソルに\n",
        "    ary = np.expand_dims(ary, axis=0)\n",
        " \n",
        "    #上位5を出力\n",
        "    preds = model.predict(preprocess_input(ary))\n",
        "    results = decode_predictions(preds, top=5)[0]\n",
        "    for result in results:\n",
        "        print(result)"
      ],
      "execution_count": 1,
      "outputs": [
        {
          "output_type": "stream",
          "text": [
            "Using TensorFlow backend.\n"
          ],
          "name": "stderr"
        },
        {
          "output_type": "stream",
          "text": [
            "Downloading data from https://github.com/fchollet/deep-learning-models/releases/download/v0.1/vgg16_weights_tf_dim_ordering_tf_kernels.h5\n",
            "553467904/553467096 [==============================] - 8s 0us/step\n",
            "Downloading data from https://s3.amazonaws.com/deep-learning-models/image-models/imagenet_class_index.json\n",
            "40960/35363 [==================================] - 0s 0us/step\n",
            "('n07697313', 'cheeseburger', 0.99998677)\n",
            "('n07693725', 'bagel', 1.2767813e-05)\n",
            "('n02776631', 'bakery', 3.8817848e-07)\n",
            "('n07697537', 'hotdog', 9.3922715e-08)\n",
            "('n07613480', 'trifle', 7.705779e-09)\n"
          ],
          "name": "stdout"
        }
      ]
    }
  ]
}